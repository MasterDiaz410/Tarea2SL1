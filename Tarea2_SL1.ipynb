{
  "nbformat": 4,
  "nbformat_minor": 0,
  "metadata": {
    "colab": {
      "name": "Tarea2_SL1",
      "provenance": [],
      "mount_file_id": "1-7FE_ZtiuFBrmvdVVLFbiJcaMogtLSpK",
      "authorship_tag": "ABX9TyMdFa3AeW7FrZUhFNslhz1l",
      "include_colab_link": true
    },
    "kernelspec": {
      "name": "python3",
      "display_name": "Python 3"
    }
  },
  "cells": [
    {
      "cell_type": "markdown",
      "metadata": {
        "id": "view-in-github",
        "colab_type": "text"
      },
      "source": [
        "<a href=\"https://colab.research.google.com/github/MasterDiaz410/Tarea2SL1/blob/master/Tarea2_SL1.ipynb\" target=\"_parent\"><img src=\"https://colab.research.google.com/assets/colab-badge.svg\" alt=\"Open In Colab\"/></a>"
      ]
    },
    {
      "cell_type": "markdown",
      "metadata": {
        "id": "S25G2KT81TXz",
        "colab_type": "text"
      },
      "source": [
        "La tarea práctica consiste en usar el mismo dataset del proyecto del curso pasado y e implementar gradient descent aplicado a regresión con este(usando la variable con mayor correlación elegida en el proyecto en anterior(solo una de las 2 del proyecto)),si no terminaron el proyecto anterior no se preocupen, no hay que hacer todo el proyecto, solo el entrenamiento con gradient descent pero usando tensorflow y usar tensorboard para monitorear que el error disminuya conforme avanzan las iteraciones \"en vivo\"(en lugar de hacerlo con matplotlib hasta el final como lo hicimos antes).\n",
        "Pueden usar el siguiente ejemplo de regresión con tensorflow: https://www.geeksforgeeks.org/linear-regression-using-tensorflow/ o el notebook usado en clase.\n",
        "Para la parte de Tensorboard, este nos permite visualizar mucha información relevante, pero nos centraremos en 2 cosas :\n",
        "\n",
        "La curva de aprendizaje(disminución de error MSE en el tiempo)(en la la pestaña \"scalars\")\n",
        "El grafo que representa a nuestro modelo (en la pestaña \"graphs\")\n",
        "\n",
        "Requisitos:\n",
        "\n",
        "- Utilizar solo operaciones vectorizadas.\n",
        "- Usar BATCH gradient descent (utilizar todo el dataset en cada paso de gradient descent)\n",
        "- Utilizar tensorboard:\n",
        "- Agregar el grafo del modelo.\n",
        "- Usar operaciones con nombre y usar name_spaces para mejorar el orden.\n",
        "- Agregar un summary.scalar para monitorear el MSE.\n",
        "- Aplicar reutilización de código: por ejemplo usar programación orientada a objetos para crear el modelo y/o definir el entrenamiento dentro de funciones de python.\n",
        "- Utilizar las funciones reutilizables de entrenamiento para ejecutar al menos 10 experimentos (variable numero de iteraciones, y diferente learning rate)\n",
        "- definir un string de configuración para cada experimento.\n",
        "- crear un directorio para cada experimento basado en el string de configuración.\n",
        "- utilizar un enfoque investigación científica: antes del experimento formular una hipótesis del comportamiento experado, ejecutar el experimento y utilizar los resultados de tensorboard para conculir.\n",
        "- basado en los resultados experimentales obtenidos con tensorboard crear una conclusión general y elegir el mejor experimento.\n",
        "- agregar el contenido de tensorboard al notebook.\n",
        "- subir el notebook a github y agregar al GES el link\n",
        "- no utilizar tf.train.GradientDescentOptimizer"
      ]
    },
    {
      "cell_type": "code",
      "metadata": {
        "id": "YPIU14AI1F4f",
        "colab_type": "code",
        "colab": {}
      },
      "source": [
        "import numpy as np\n",
        "import tensorflow as tf\n",
        "import matplotlib.pyplot as plt\n",
        "import pandas as pd"
      ],
      "execution_count": 8,
      "outputs": []
    },
    {
      "cell_type": "code",
      "metadata": {
        "id": "BzURCNKjtqnr",
        "colab_type": "code",
        "colab": {
          "base_uri": "https://localhost:8080/",
          "height": 34
        },
        "outputId": "8145e515-b615-4d4f-957b-d21fb36d4905"
      },
      "source": [
        "if tf.__version__.startswith(\"2.\"):\n",
        "  import tensorflow.compat.v1 as tf\n",
        "  tf.compat.v1.disable_v2_behavior()\n",
        "  tf.compat.v1.disable_eager_execution()\n",
        "  print(\"Enabled compatitility to tf1.x\")"
      ],
      "execution_count": 14,
      "outputs": [
        {
          "output_type": "stream",
          "text": [
            "Enabled compatitility to tf1.x\n"
          ],
          "name": "stdout"
        }
      ]
    },
    {
      "cell_type": "code",
      "metadata": {
        "id": "uddvPetN2n7o",
        "colab_type": "code",
        "colab": {
          "base_uri": "https://localhost:8080/",
          "height": 51
        },
        "outputId": "fab4b5cd-bb2f-4191-9419-e3502ef90485"
      },
      "source": [
        "# carga de informacion del archivo de entrada\n",
        "dataOrigin = np.load('/content/drive/My Drive/Colab Notebooks/proyecto_training_data.npy')\n",
        "\n",
        "# Cantidad de datos en entrenamiento y validacion 80 - 20\n",
        "totalTriningData=int(0.8 * dataOrigin.shape[0])\n",
        "totalValidationData=int(0.2 * dataOrigin.shape[0])\n",
        "\n",
        "print(\"Total de datos de entrenamiento\", totalTriningData)\n",
        "print(\"Total de datos de validacion\", totalValidationData)\n"
      ],
      "execution_count": 4,
      "outputs": [
        {
          "output_type": "stream",
          "text": [
            "Total de datos de entrenamiento 1168\n",
            "Total de datos de validacion 292\n"
          ],
          "name": "stdout"
        }
      ]
    },
    {
      "cell_type": "code",
      "metadata": {
        "id": "JZdP4Uer6bht",
        "colab_type": "code",
        "colab": {
          "base_uri": "https://localhost:8080/",
          "height": 235
        },
        "outputId": "979fa516-223c-4503-d5e5-8a00956d7f35"
      },
      "source": [
        "# creamos los dataframes de entrenamiento y validacion\n",
        "dfTrainingData = pd.DataFrame(dataOrigin[:totalTriningData])\n",
        "dfValidationData = pd.DataFrame(dataOrigin[totalTriningData:])\n",
        "\n",
        "# nombre de las columnas de dataframe\n",
        "dfTrainingData.columns = [\"SalesPrice\", \"Overall\", \"Floor\", \"Rooms\", \"Year\", \"Front\"]\n",
        "dfValidationData.columns = [\"SalesPrice\", \"Overall\", \"Floor\", \"Rooms\", \"Year\", \"Front\"]\n",
        "\n",
        "# visualizamos su correlacion para elegir la feature que mejor describe al label\n",
        "dfTrainingData.corr()\n"
      ],
      "execution_count": 5,
      "outputs": [
        {
          "output_type": "execute_result",
          "data": {
            "text/html": [
              "<div>\n",
              "<style scoped>\n",
              "    .dataframe tbody tr th:only-of-type {\n",
              "        vertical-align: middle;\n",
              "    }\n",
              "\n",
              "    .dataframe tbody tr th {\n",
              "        vertical-align: top;\n",
              "    }\n",
              "\n",
              "    .dataframe thead th {\n",
              "        text-align: right;\n",
              "    }\n",
              "</style>\n",
              "<table border=\"1\" class=\"dataframe\">\n",
              "  <thead>\n",
              "    <tr style=\"text-align: right;\">\n",
              "      <th></th>\n",
              "      <th>SalesPrice</th>\n",
              "      <th>Overall</th>\n",
              "      <th>Floor</th>\n",
              "      <th>Rooms</th>\n",
              "      <th>Year</th>\n",
              "      <th>Front</th>\n",
              "    </tr>\n",
              "  </thead>\n",
              "  <tbody>\n",
              "    <tr>\n",
              "      <th>SalesPrice</th>\n",
              "      <td>1.000000</td>\n",
              "      <td>0.793990</td>\n",
              "      <td>0.616289</td>\n",
              "      <td>0.564707</td>\n",
              "      <td>0.534171</td>\n",
              "      <td>0.363292</td>\n",
              "    </tr>\n",
              "    <tr>\n",
              "      <th>Overall</th>\n",
              "      <td>0.793990</td>\n",
              "      <td>1.000000</td>\n",
              "      <td>0.469411</td>\n",
              "      <td>0.444293</td>\n",
              "      <td>0.567313</td>\n",
              "      <td>0.242420</td>\n",
              "    </tr>\n",
              "    <tr>\n",
              "      <th>Floor</th>\n",
              "      <td>0.616289</td>\n",
              "      <td>0.469411</td>\n",
              "      <td>1.000000</td>\n",
              "      <td>0.409318</td>\n",
              "      <td>0.292074</td>\n",
              "      <td>0.417388</td>\n",
              "    </tr>\n",
              "    <tr>\n",
              "      <th>Rooms</th>\n",
              "      <td>0.564707</td>\n",
              "      <td>0.444293</td>\n",
              "      <td>0.409318</td>\n",
              "      <td>1.000000</td>\n",
              "      <td>0.122911</td>\n",
              "      <td>0.341005</td>\n",
              "    </tr>\n",
              "    <tr>\n",
              "      <th>Year</th>\n",
              "      <td>0.534171</td>\n",
              "      <td>0.567313</td>\n",
              "      <td>0.292074</td>\n",
              "      <td>0.122911</td>\n",
              "      <td>1.000000</td>\n",
              "      <td>0.121474</td>\n",
              "    </tr>\n",
              "    <tr>\n",
              "      <th>Front</th>\n",
              "      <td>0.363292</td>\n",
              "      <td>0.242420</td>\n",
              "      <td>0.417388</td>\n",
              "      <td>0.341005</td>\n",
              "      <td>0.121474</td>\n",
              "      <td>1.000000</td>\n",
              "    </tr>\n",
              "  </tbody>\n",
              "</table>\n",
              "</div>"
            ],
            "text/plain": [
              "            SalesPrice   Overall     Floor     Rooms      Year     Front\n",
              "SalesPrice    1.000000  0.793990  0.616289  0.564707  0.534171  0.363292\n",
              "Overall       0.793990  1.000000  0.469411  0.444293  0.567313  0.242420\n",
              "Floor         0.616289  0.469411  1.000000  0.409318  0.292074  0.417388\n",
              "Rooms         0.564707  0.444293  0.409318  1.000000  0.122911  0.341005\n",
              "Year          0.534171  0.567313  0.292074  0.122911  1.000000  0.121474\n",
              "Front         0.363292  0.242420  0.417388  0.341005  0.121474  1.000000"
            ]
          },
          "metadata": {
            "tags": []
          },
          "execution_count": 5
        }
      ]
    },
    {
      "cell_type": "markdown",
      "metadata": {
        "id": "ueR9M7ZnP_ex",
        "colab_type": "text"
      },
      "source": [
        "Debido a la mayor correlacion que existe entre overall y sales price (0.793930), esta es la variable que se seleccionara para realizar las predicciones."
      ]
    },
    {
      "cell_type": "code",
      "metadata": {
        "id": "szkhLrcXP1Yk",
        "colab_type": "code",
        "colab": {
          "base_uri": "https://localhost:8080/",
          "height": 265
        },
        "outputId": "b5a42416-cb90-407f-d0f9-8195c13484cf"
      },
      "source": [
        "# definiendo los tensores\n",
        "\n",
        "dfOverall = pd.DataFrame({ \"Overall\":dfTrainingData[\"Overall\"], \"Ones\":np.ones_like(dfTrainingData[\"Overall\"]),})\n",
        "tfSalesPrice = tf.constant(dfTrainingData[\"SalesPrice\"], tf.float32)\n",
        "tfSalesPrice = tf.reshape(tfSalesPrice,[totalTriningData,1])\n",
        "tfOverall = tf.constant(dfOverall, tf.float32)\n",
        "tfParameters = tf.Variable(tf.random.normal([2,1]))\n",
        "\n",
        "\n",
        "dfOverallnoOnes = pd.DataFrame({ \"Overall\":dfTrainingData[\"Overall\"],})\n",
        "X = tf.constant(dfOverallnoOnes, tf.float32)\n",
        "Y = tfSalesPrice\n",
        "\n",
        "# grafica de relacion entre overall X y Sales Price Y\n",
        "with tf.Session() as sess:       \n",
        "  # Initializing the Variables \n",
        "  plt.scatter(sess.run(X), sess.run(Y))\n",
        "  plt.show()"
      ],
      "execution_count": 15,
      "outputs": [
        {
          "output_type": "display_data",
          "data": {
            "image/png": "[encoded data removed]",
            "text/plain": [
              "<Figure size 432x288 with 1 Axes>"
            ]
          },
          "metadata": {
            "tags": [],
            "needs_background": "light"
          }
        }
      ]
    },
    {
      "cell_type": "code",
      "metadata": {
        "id": "jYpQGcg97Lrg",
        "colab_type": "code",
        "colab": {
          "base_uri": "https://localhost:8080/",
          "height": 34
        },
        "outputId": "55f64f36-4c3f-4c1b-efbb-330cdce6396e"
      },
      "source": [
        "# seccion para validar si el modelo planteado posteriormente nos brinda la solucion correcta\n",
        "# Construyendo el modelo\n",
        "c = 0\n",
        "L = 0.0001  # The learning Rate\n",
        "epochs = 1000  # The number of iterations to perform gradient descent\n",
        "n = totalTriningData # Number of elements in X\n",
        "\n",
        "Y_pred = m * X + c\n",
        "\n",
        "# realizando el Gradient Descent \n",
        "for i in range(epochs):     \n",
        "    \n",
        "    #D_m = (-2/n) * sum(X * (Y - Y_pred))  # Derivative wrt m\n",
        "    D_m = (-2/n) * tf.math.reduce_sum(X*(Y-Y_pred))\n",
        "    D_c = (-2/n) * tf.math.reduce_sum(Y - Y_pred)  # Derivative wrt c\n",
        "    m = m - L * D_m  # Update m\n",
        "    c = c - L * D_c  # Update c\n",
        "    \n",
        "print (m, c)"
      ],
      "execution_count": 40,
      "outputs": [
        {
          "output_type": "stream",
          "text": [
            "Tensor(\"sub_31006:0\", shape=(), dtype=float32) Tensor(\"sub_31007:0\", shape=(), dtype=float32)\n"
          ],
          "name": "stdout"
        }
      ]
    },
    {
      "cell_type": "code",
      "metadata": {
        "id": "Xw_aD1n7W6jW",
        "colab_type": "code",
        "colab": {}
      },
      "source": [
        "# definamos unas funciones utiles que nos apoyaran a encontrar nuestros valores\n",
        "\n",
        "# funcion que genera la salida de una regresion lineal\n",
        "def linearRegression(variables,parameters):\n",
        "  return tf.convert_to_tensor(tf.matmul(variables,parameters), dtype=tf.float32)\n",
        "\n",
        "# retorna el valor de costo de nuestro modelo\n",
        "def costFunction(yreal,yprediccion,set_size):\n",
        "  return tf.reduce_sum(tf.pow(yreal - yprediccion, 2) / (2 * set_size))\n",
        "\n",
        "# calculo del vector gradiente para encontrar nuestros weights\n",
        "def gradientVector(lr,totalElements, vectorParametrosMB):\n",
        "\n",
        "    w0=tfParameters[0] - tf.multiply(tf.divide(lr,totalElements),\n",
        "                              tf.reduce_sum(tf.multiply(yhat-tfSalesPrice,tfOverall)))\n",
        "\n",
        "    w1=tfParameters[1] - tf.multiply(tf.divide(lr,totalElements),\n",
        "                              tf.reduce_sum(yhat - tfSalesPrice))\n",
        "    \n",
        "    return (w0,w1)"
      ],
      "execution_count": 41,
      "outputs": []
    },
    {
      "cell_type": "code",
      "metadata": {
        "id": "44ogPAtLX05t",
        "colab_type": "code",
        "colab": {
          "base_uri": "https://localhost:8080/",
          "height": 85
        },
        "outputId": "302c1930-8a3d-4e57-d86a-6c9c5faa2f3a"
      },
      "source": [
        "# ahora usemos nuestras funciones para calcular nuestra estimacion\n",
        "yhat = linearRegression(tfOverall,tfParameters)\n",
        "print(\"yhat\")\n",
        "print(yhat)\n",
        "\n",
        "# nuestra funcion de costo\n",
        "cost = costFunction(tfSalesPrice, yhat, totalTriningData)\n",
        "print(\"Costo\")\n",
        "print(cost)"
      ],
      "execution_count": 42,
      "outputs": [
        {
          "output_type": "stream",
          "text": [
            "yhat\n",
            "Tensor(\"MatMul_2:0\", shape=(1168, 1), dtype=float32)\n",
            "Costo\n",
            "Tensor(\"Sum_10000:0\", shape=(), dtype=float32)\n"
          ],
          "name": "stdout"
        }
      ]
    },
    {
      "cell_type": "markdown",
      "metadata": {
        "id": "N4loJH2MSmQA",
        "colab_type": "text"
      },
      "source": [
        "Planteamiento del problema, tratamos de validar el modelo que mejor se acople a nuestros datos y que los represente de mejor forma. Para ello seleccionamos la variable que mayor correlacion posee con las ventas la cual resulto ser overall. Ahora estamos generando modelos con diferentes lr (learning rates) y vemos como cada iteracion nos vamos acercando mas al resultado que obtuvimos en nuestro primer modelo realizando el gradient descent a mano. Ahora vamos a ver como se comportan los modelos."
      ]
    },
    {
      "cell_type": "code",
      "metadata": {
        "id": "Kf5_oV6Tv_4p",
        "colab_type": "code",
        "colab": {}
      },
      "source": [
        "print(yreal)"
      ],
      "execution_count": null,
      "outputs": []
    },
    {
      "cell_type": "code",
      "metadata": {
        "id": "nz3LjKuPgDVk",
        "colab_type": "code",
        "colab": {
          "base_uri": "https://localhost:8080/",
          "height": 187
        },
        "outputId": "47c3187c-760a-46c1-e95b-92f204567720"
      },
      "source": [
        "# testeando las posibles soluciones \n",
        "def testingResults(i, lr):\n",
        "  gradient = gradientVector(lr, totalTriningData, tfParameters)\n",
        "  print(\"Iteracion \" , i , \" lr \", lr,\" w0 \",gradient[0] , \" w1 \",gradient[1])\n",
        "\n",
        "\n",
        "lr = 0.01\n",
        "for i in range(10):\n",
        "  testingResults(i, lr)\n",
        "  lr = lr / 100\n"
      ],
      "execution_count": 45,
      "outputs": [
        {
          "output_type": "stream",
          "text": [
            "Iteracion  0  lr  0.01  w0  Tensor(\"sub_31014:0\", shape=(1,), dtype=float32)  w1  Tensor(\"sub_31016:0\", shape=(1,), dtype=float32)\n",
            "Iteracion  1  lr  0.0001  w0  Tensor(\"sub_31018:0\", shape=(1,), dtype=float32)  w1  Tensor(\"sub_31020:0\", shape=(1,), dtype=float32)\n",
            "Iteracion  2  lr  1e-06  w0  Tensor(\"sub_31022:0\", shape=(1,), dtype=float32)  w1  Tensor(\"sub_31024:0\", shape=(1,), dtype=float32)\n",
            "Iteracion  3  lr  1e-08  w0  Tensor(\"sub_31026:0\", shape=(1,), dtype=float32)  w1  Tensor(\"sub_31028:0\", shape=(1,), dtype=float32)\n",
            "Iteracion  4  lr  1e-10  w0  Tensor(\"sub_31030:0\", shape=(1,), dtype=float32)  w1  Tensor(\"sub_31032:0\", shape=(1,), dtype=float32)\n",
            "Iteracion  5  lr  1e-12  w0  Tensor(\"sub_31034:0\", shape=(1,), dtype=float32)  w1  Tensor(\"sub_31036:0\", shape=(1,), dtype=float32)\n",
            "Iteracion  6  lr  1e-14  w0  Tensor(\"sub_31038:0\", shape=(1,), dtype=float32)  w1  Tensor(\"sub_31040:0\", shape=(1,), dtype=float32)\n",
            "Iteracion  7  lr  1e-16  w0  Tensor(\"sub_31042:0\", shape=(1,), dtype=float32)  w1  Tensor(\"sub_31044:0\", shape=(1,), dtype=float32)\n",
            "Iteracion  8  lr  1e-18  w0  Tensor(\"sub_31046:0\", shape=(1,), dtype=float32)  w1  Tensor(\"sub_31048:0\", shape=(1,), dtype=float32)\n",
            "Iteracion  9  lr  1.0000000000000001e-20  w0  Tensor(\"sub_31050:0\", shape=(1,), dtype=float32)  w1  Tensor(\"sub_31052:0\", shape=(1,), dtype=float32)\n"
          ],
          "name": "stdout"
        }
      ]
    },
    {
      "cell_type": "markdown",
      "metadata": {
        "id": "6jwcq71mTYcO",
        "colab_type": "text"
      },
      "source": [
        "Con cada iteracion nuestro modelo parece acercarse al punto w1, w2 (sub_31050,sub_31052) el cual vamos a dar por aceptado para este ejercicio.\n",
        "\n"
      ]
    },
    {
      "cell_type": "code",
      "metadata": {
        "id": "NXsAMTMiTtYV",
        "colab_type": "code",
        "colab": {}
      },
      "source": [
        ""
      ],
      "execution_count": null,
      "outputs": []
    }
  ]
}